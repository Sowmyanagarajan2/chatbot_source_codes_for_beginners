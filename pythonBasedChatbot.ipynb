{
  "nbformat": 4,
  "nbformat_minor": 0,
  "metadata": {
    "colab": {
      "provenance": []
    },
    "kernelspec": {
      "name": "python3",
      "display_name": "Python 3"
    },
    "language_info": {
      "name": "python"
    }
  },
  "cells": [
    {
      "cell_type": "code",
      "execution_count": null,
      "metadata": {
        "id": "7h57g-Sidcyu"
      },
      "outputs": [],
      "source": [
        "# Simple Python Chatbot\n",
        "\n",
        "print(\"Welcome to ChatBot! Type 'bye' to exit.\\n\")\n",
        "\n",
        "while True:\n",
        "    user_input = input(\"You: \").lower()\n",
        "\n",
        "    if user_input == 'bye':\n",
        "        print(\"Bot: Goodbye! Have a great day!\")\n",
        "        break\n",
        "\n",
        "    elif \"hi\" in user_input or \"hello\" in user_input:\n",
        "        print(\"Bot: Hello! How can I help you?\")\n",
        "\n",
        "    elif \"how are you\" in user_input:\n",
        "        print(\"Bot: I'm just a program, but I'm doing fine. How about you?\")\n",
        "\n",
        "    elif \"your name\" in user_input:\n",
        "        print(\"Bot: I'm your friendly chatbot!\")\n",
        "\n",
        "    elif \"help\" in user_input:\n",
        "        print(\"Bot: Sure! I'm here to help. Ask me anything.\")\n",
        "\n",
        "    elif \"thanks\" in user_input or \"thank you\" in user_input:\n",
        "        print(\"Bot: You're welcome!\")\n",
        "\n",
        "    else:\n",
        "        print(\"Bot: I'm sorry, I didn't understand that.\")\n"
      ]
    },
    {
      "cell_type": "markdown",
      "source": [
        "💡 What it does:\n",
        "Responds based on keywords using if-else.\n",
        "\n",
        "Keeps running until user types \"bye\".\n",
        "\n",
        "Converts input to lowercase for easier comparison.\n",
        "\n",
        "🔧 No installation needed:\n",
        "Just run this in any Python environment (like IDLE, Jupyter, or terminal).\n",
        "\n",
        "🆙 Want to make it smarter?\n",
        "Let me know if you want to:\n",
        "\n",
        "Upgrade to an AI chatbot using ChatterBot or transformers.\n",
        "\n",
        "Add a voice interface, GUI, or file-based learning."
      ],
      "metadata": {
        "id": "_-ALp_UddoZT"
      }
    },
    {
      "cell_type": "markdown",
      "source": [],
      "metadata": {
        "id": "exPcz0i_dnOn"
      }
    },
    {
      "cell_type": "markdown",
      "source": [],
      "metadata": {
        "id": "Sdia6TxQdl6u"
      }
    }
  ]
}