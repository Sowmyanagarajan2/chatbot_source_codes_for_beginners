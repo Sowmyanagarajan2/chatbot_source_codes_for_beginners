{
  "nbformat": 4,
  "nbformat_minor": 0,
  "metadata": {
    "colab": {
      "provenance": []
    },
    "kernelspec": {
      "name": "python3",
      "display_name": "Python 3"
    },
    "language_info": {
      "name": "python"
    }
  },
  "cells": [
    {
      "cell_type": "code",
      "execution_count": null,
      "metadata": {
        "colab": {
          "base_uri": "https://localhost:8080/"
        },
        "id": "N09uLHsNIz3i",
        "outputId": "e22bcbc1-d66a-4f18-b71d-d940177d6816"
      },
      "outputs": [
        {
          "output_type": "stream",
          "name": "stdout",
          "text": [
            "You: hi\n",
            "Bot: Sorry, I don't understand your question.\n"
          ]
        }
      ],
      "source": [
        "# !pip install pandas sklearn nltk\n",
        "import pandas as pd\n",
        "from sklearn.feature_extraction.text import TfidfVectorizer\n",
        "from sklearn.metrics.pairwise import cosine_similarity\n",
        "\n",
        "# 1. Load your CSV or Excel\n",
        "data = pd.read_csv('/content/chatbot_data.csv')  # or use pd.read_excel()\n",
        "\n",
        "# 2. Prepare the data\n",
        "questions = data['Question'].values\n",
        "answers = data['Answer'].values\n",
        "\n",
        "# 3. Convert questions to vector form\n",
        "vectorizer = TfidfVectorizer()\n",
        "question_vectors = vectorizer.fit_transform(questions)\n",
        "\n",
        "# 4. Define the chatbot function\n",
        "def chatbot_response(user_input):\n",
        "    user_vec = vectorizer.transform([user_input])\n",
        "    similarity = cosine_similarity(user_vec, question_vectors)\n",
        "    index = similarity.argmax()\n",
        "    confidence = similarity[0][index]\n",
        "    if confidence > 0.3:\n",
        "        return answers[index]\n",
        "    else:\n",
        "        return \"Sorry, I don't understand your question.\"\n",
        "\n",
        "# 5. Chat loop\n",
        "while True:\n",
        "    user_input = input(\"You: \")\n",
        "    if user_input.lower() in ['exit', 'quit', 'bye']:\n",
        "        print(\"Bot: Goodbye!\")\n",
        "        break\n",
        "    response = chatbot_response(user_input)\n",
        "    print(\"Bot:\",response)"
      ]
    }
  ]
}